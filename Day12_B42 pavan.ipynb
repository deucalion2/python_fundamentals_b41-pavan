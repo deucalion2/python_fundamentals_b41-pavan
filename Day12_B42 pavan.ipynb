{
 "cells": [
  {
   "cell_type": "code",
   "execution_count": null,
   "metadata": {},
   "outputs": [],
   "source": [
    "introduction to python clases:"
   ]
  },
  {
   "cell_type": "code",
   "execution_count": null,
   "metadata": {},
   "outputs": [],
   "source": [
    "class ---> it is an high leve blue print of the program , we have to use a keyword called class for defining it. for giving the class name we have to use the title format.\n",
    "\n",
    "methods ----> A function writter inside a class is called as method\n",
    "\n",
    "attributes ---> A variable written inside the class is termed as an attribute\n",
    "\n",
    "self ---> A self is a temp placeholder for an object\n",
    "\n",
    "object/instance ---> it is and entry or access point to the class methods"
   ]
  },
  {
   "cell_type": "code",
   "execution_count": null,
   "metadata": {},
   "outputs": [],
   "source": []
  },
  {
   "cell_type": "code",
   "execution_count": null,
   "metadata": {},
   "outputs": [],
   "source": [
    "# scenario :\n",
    "\n",
    "# create a Greet class and have the below methods inside it.\n",
    "\n",
    "# 1. we have the accept the input from the user  -----> inputuser(username)\n",
    "\n",
    "# 2. this method needs to display the username ----> displayuser\n",
    "\n",
    "# 3. it need to greet the user ----> greetuser\n"
   ]
  },
  {
   "cell_type": "code",
   "execution_count": 25,
   "metadata": {},
   "outputs": [],
   "source": [
    " class Greet :  # class name ----> title format\n",
    "    \"\"\"creating a greeting class\"\"\"   # doc - string\n",
    "    \n",
    "    def inputuser(self,username):     # method name\n",
    "        self.username = username      # attribute  # test.username = 'sudheer'\n",
    "        \n",
    "    def displayuser(self): # method name\n",
    "        print(self.username)\n",
    "        \n",
    "    def greetuser(self):  # method name\n",
    "        print(f\"Hello,  {self.username}\")"
   ]
  },
  {
   "cell_type": "code",
   "execution_count": null,
   "metadata": {},
   "outputs": [],
   "source": [
    "Note : self is mandatory"
   ]
  },
  {
   "cell_type": "code",
   "execution_count": null,
   "metadata": {},
   "outputs": [],
   "source": [
    "assigning an object to the class ....?"
   ]
  },
  {
   "cell_type": "code",
   "execution_count": 12,
   "metadata": {},
   "outputs": [],
   "source": [
    "test = Greet()  # assignment has been done"
   ]
  },
  {
   "cell_type": "code",
   "execution_count": 21,
   "metadata": {},
   "outputs": [],
   "source": [
    "test.inputuser('sudheer')"
   ]
  },
  {
   "cell_type": "code",
   "execution_count": 22,
   "metadata": {},
   "outputs": [
    {
     "name": "stdout",
     "output_type": "stream",
     "text": [
      "sudheer\n"
     ]
    }
   ],
   "source": [
    "test.displayuser()"
   ]
  },
  {
   "cell_type": "code",
   "execution_count": 26,
   "metadata": {},
   "outputs": [
    {
     "name": "stdout",
     "output_type": "stream",
     "text": [
      "Hello,sudheer\n"
     ]
    }
   ],
   "source": [
    "test.greetuser()"
   ]
  },
  {
   "cell_type": "code",
   "execution_count": null,
   "metadata": {},
   "outputs": [],
   "source": []
  },
  {
   "cell_type": "code",
   "execution_count": null,
   "metadata": {},
   "outputs": [],
   "source": [
    "OOPS ---> object oriented programing"
   ]
  },
  {
   "cell_type": "code",
   "execution_count": null,
   "metadata": {},
   "outputs": [],
   "source": []
  },
  {
   "cell_type": "code",
   "execution_count": null,
   "metadata": {},
   "outputs": [],
   "source": [
    "introduction to constructor:\n",
    "\n",
    "overview : it is a special method and also called as magical method.\n",
    "it will be intialiazing the attributes and methods automatically\n",
    "\n",
    "how to define the constructor....?\n",
    "\n",
    "def_init_(self)\n",
    "\n",
    "Note : it is a double underscore __\n",
    "    "
   ]
  },
  {
   "cell_type": "code",
   "execution_count": null,
   "metadata": {},
   "outputs": [],
   "source": []
  },
  {
   "cell_type": "code",
   "execution_count": null,
   "metadata": {},
   "outputs": [],
   "source": [
    "# scenario : create a Dog class and accept name and age as the parametre in the init method and have the other\n",
    "\n",
    "# methods below\n",
    "\n",
    "# jump\n",
    "\n",
    "# sleep\n",
    "\n",
    "# rollover\n",
    "\n",
    "# sit\n",
    "\n",
    "# details"
   ]
  },
  {
   "cell_type": "code",
   "execution_count": 49,
   "metadata": {},
   "outputs": [],
   "source": [
    "class Dog:\n",
    "    \"\"\"creating a Dog class and defining the dog methods\"\"\"\n",
    "    \n",
    "    def __init__(self,name,age):\n",
    "        self.name = name\n",
    "        self.age = age\n",
    "        \n",
    "    def jump(self):\n",
    "        print(f\"{self.name} is now jumping on the command\")\n",
    "              \n",
    "    def sleep(self):\n",
    "        print(f\"{self.name} is now sleeping\")\n",
    "              \n",
    "    def rollover(self):\n",
    "        print(f\"{self.name} is now rolling over on the command\")\n",
    "     \n",
    "    def sit(self):\n",
    "        print(f\"{self.name} is not sit over on the command\")\n",
    "    \n",
    "    def details(self):\n",
    "        print(f\"I have dog named {self.name}\")\n",
    "        print(f\"{self.name} is of {self.age} years old\")      "
   ]
  },
  {
   "cell_type": "code",
   "execution_count": null,
   "metadata": {},
   "outputs": [],
   "source": []
  },
  {
   "cell_type": "code",
   "execution_count": 50,
   "metadata": {},
   "outputs": [],
   "source": [
    "xobj = Dog('scooby',2) # we are assing the arguments during the object assignment to the class...!"
   ]
  },
  {
   "cell_type": "code",
   "execution_count": 51,
   "metadata": {},
   "outputs": [
    {
     "name": "stdout",
     "output_type": "stream",
     "text": [
      "scooby is now jumping on the command\n"
     ]
    }
   ],
   "source": [
    "xobj.jump()"
   ]
  },
  {
   "cell_type": "code",
   "execution_count": 52,
   "metadata": {},
   "outputs": [
    {
     "name": "stdout",
     "output_type": "stream",
     "text": [
      "scooby is now sleeping\n"
     ]
    }
   ],
   "source": [
    "xobj.sleep()"
   ]
  },
  {
   "cell_type": "code",
   "execution_count": 53,
   "metadata": {},
   "outputs": [
    {
     "name": "stdout",
     "output_type": "stream",
     "text": [
      "scooby is now rolling over on the command\n"
     ]
    }
   ],
   "source": [
    "xobj.rollover()"
   ]
  },
  {
   "cell_type": "code",
   "execution_count": 54,
   "metadata": {},
   "outputs": [
    {
     "name": "stdout",
     "output_type": "stream",
     "text": [
      "scooby is not sit over on the command\n"
     ]
    }
   ],
   "source": [
    "xobj.sit()"
   ]
  },
  {
   "cell_type": "code",
   "execution_count": 56,
   "metadata": {},
   "outputs": [
    {
     "name": "stdout",
     "output_type": "stream",
     "text": [
      "I have dog named scooby\n",
      "scooby is of 2 years old\n"
     ]
    }
   ],
   "source": [
    "xobj.details()"
   ]
  },
  {
   "cell_type": "code",
   "execution_count": null,
   "metadata": {},
   "outputs": [],
   "source": []
  }
 ],
 "metadata": {
  "kernelspec": {
   "display_name": "Python 3",
   "language": "python",
   "name": "python3"
  },
  "language_info": {
   "codemirror_mode": {
    "name": "ipython",
    "version": 3
   },
   "file_extension": ".py",
   "mimetype": "text/x-python",
   "name": "python",
   "nbconvert_exporter": "python",
   "pygments_lexer": "ipython3",
   "version": "3.8.5"
  }
 },
 "nbformat": 4,
 "nbformat_minor": 4
}
